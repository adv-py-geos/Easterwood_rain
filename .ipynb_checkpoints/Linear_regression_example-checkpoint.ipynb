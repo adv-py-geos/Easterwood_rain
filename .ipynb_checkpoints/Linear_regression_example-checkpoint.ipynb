{
 "cells": [
  {
   "cell_type": "code",
   "execution_count": 39,
   "metadata": {},
   "outputs": [],
   "source": [
    "from readdata import create_df\n",
    "\n",
    "from sklearn.preprocessing import normalize\n",
    "from sklearn.model_selection import train_test_split\n",
    "from sklearn import linear_model\n",
    "from sklearn.metrics import r2_score"
   ]
  },
  {
   "cell_type": "code",
   "execution_count": 37,
   "metadata": {},
   "outputs": [],
   "source": [
    "CLL = create_df('CLL')\n",
    "CLL = CLL.fillna(0.0)  # not sure what to do with the NaNs, but zeroing out seems like a good guess\n",
    "\n",
    "# Get data for 'today' (exclude last data point), and normalize\n",
    "# this is the input data\n",
    "X = normalize(CLL[:-1].values)\n",
    "\n",
    "# Get precipitation data for 'tomorrow'\n",
    "# This is what we want to predict\n",
    "y = CLL['1Hr-Prcp [mm]'][1:].values\n",
    "\n",
    "# Create a prediction based on persistance\n",
    "# (Rain today is predicted to rain tomorrow)\n",
    "y_persist = CLL['1Hr-Prcp [mm]'][:-1].values"
   ]
  },
  {
   "cell_type": "code",
   "execution_count": 45,
   "metadata": {},
   "outputs": [],
   "source": [
    "X_train, X_test, y_train, y_test = train_test_split(X, y)"
   ]
  },
  {
   "cell_type": "code",
   "execution_count": 46,
   "metadata": {},
   "outputs": [],
   "source": [
    "reg = linear_model.LinearRegression()\n",
    "fit = reg.fit(X_train, y_train)"
   ]
  },
  {
   "cell_type": "code",
   "execution_count": 49,
   "metadata": {},
   "outputs": [],
   "source": [
    "y_predict = fit.predict(X_test)"
   ]
  },
  {
   "cell_type": "code",
   "execution_count": 55,
   "metadata": {},
   "outputs": [
    {
     "name": "stdout",
     "output_type": "stream",
     "text": [
      "0.01955966815039034\n",
      "-0.8025923866275462\n",
      "-0.04455261196725213\n"
     ]
    }
   ],
   "source": [
    "print(r2_score(y_test, y_predict))\n",
    "print(r2_score(y, y_persist))\n",
    "print(r2_score(y, y_rand))"
   ]
  },
  {
   "cell_type": "code",
   "execution_count": 52,
   "metadata": {},
   "outputs": [
    {
     "data": {
      "text/plain": [
       "(7303,)"
      ]
     },
     "execution_count": 52,
     "metadata": {},
     "output_type": "execute_result"
    }
   ],
   "source": [
    "y.shape"
   ]
  },
  {
   "cell_type": "code",
   "execution_count": 54,
   "metadata": {},
   "outputs": [],
   "source": [
    "import numpy as np\n",
    "y_rand = np.random.rand(7303)"
   ]
  },
  {
   "cell_type": "code",
   "execution_count": null,
   "metadata": {},
   "outputs": [],
   "source": []
  }
 ],
 "metadata": {
  "kernelspec": {
   "display_name": "Python 3",
   "language": "python",
   "name": "python3"
  },
  "language_info": {
   "codemirror_mode": {
    "name": "ipython",
    "version": 3
   },
   "file_extension": ".py",
   "mimetype": "text/x-python",
   "name": "python",
   "nbconvert_exporter": "python",
   "pygments_lexer": "ipython3",
   "version": "3.9.0"
  }
 },
 "nbformat": 4,
 "nbformat_minor": 4
}
